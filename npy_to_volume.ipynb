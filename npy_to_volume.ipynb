{
 "cells": [
  {
   "cell_type": "code",
   "execution_count": 2,
   "metadata": {},
   "outputs": [],
   "source": [
    "import os\n",
    "from nibabel.testing import data_path\n",
    "import nibabel as nib\n",
    "import numpy as np\n",
    "import matplotlib.pyplot as plt\n",
    "import cv2"
   ]
  },
  {
   "cell_type": "code",
   "execution_count": null,
   "metadata": {},
   "outputs": [],
   "source": [
    "#\"liverseg-2017-nipsws/LiTS_database/liver_seg/\"\n",
    "RESULTS_PATH = \"/media/pravda/New Volume1/LiTS/ct_lits/results/segment_liver\" # seg_liver_ck"
   ]
  },
  {
   "cell_type": "code",
   "execution_count": null,
   "metadata": {},
   "outputs": [],
   "source": [
    "for folder_no in os.listdir(RESULTS_PATH):\n",
    "    path = os.path.join(RESULTS_PATH,folder_no)\n",
    "    \n",
    "    for img in os.listdir(path):\n",
    "        img = np.load(os.path.join(path,img)).astype('int32')\n",
    "        plt.imshow(img,cmap='gray')\n",
    "        #plt.show()\n",
    "        #print(img)    "
   ]
  },
  {
   "cell_type": "code",
   "execution_count": null,
   "metadata": {},
   "outputs": [],
   "source": [
    "for folder_no in os.listdir(RESULTS_PATH):\n",
    "    path = os.path.join(RESULTS_PATH,folder_no)\n",
    "    \n",
    "    max_channel = max([int(idx[:-4]) for idx in os.listdir(path)])\n",
    "    img_volume = np.zeros((512,512,max_channel+1))\n",
    "    \n",
    "    for img in os.listdir(path):\n",
    "        idx = int(img[:-4])\n",
    "        \n",
    "        img = np.load(os.path.join(path,img))\n",
    "        img_volume[:,:,idx] = img\n",
    "        \n",
    "    np.save(\"/media/pravda/New Volume1/LiTS/ct_lits/results/output_vol/\"+folder_no+\".npy\",img_volume)"
   ]
  },
  {
   "cell_type": "code",
   "execution_count": 3,
   "metadata": {},
   "outputs": [
    {
     "ename": "ImageFileError",
     "evalue": "Cannot work out file type of \"/media/pravda/New Volume1/LiTS/ct_lits/results/output_vol/0.npy\"",
     "output_type": "error",
     "traceback": [
      "\u001b[0;31m---------------------------------------------------------------------------\u001b[0m",
      "\u001b[0;31mImageFileError\u001b[0m                            Traceback (most recent call last)",
      "\u001b[0;32m<ipython-input-3-f24765c10784>\u001b[0m in \u001b[0;36m<module>\u001b[0;34m\u001b[0m\n\u001b[1;32m      1\u001b[0m \u001b[0mdata_path\u001b[0m \u001b[0;34m=\u001b[0m \u001b[0;34m'/media/pravda/New Volume1/LiTS/ct_lits/results/output_vol/'\u001b[0m\u001b[0;34m\u001b[0m\u001b[0;34m\u001b[0m\u001b[0m\n\u001b[1;32m      2\u001b[0m \u001b[0mexample_filename\u001b[0m \u001b[0;34m=\u001b[0m \u001b[0mos\u001b[0m\u001b[0;34m.\u001b[0m\u001b[0mpath\u001b[0m\u001b[0;34m.\u001b[0m\u001b[0mjoin\u001b[0m\u001b[0;34m(\u001b[0m\u001b[0mdata_path\u001b[0m\u001b[0;34m,\u001b[0m \u001b[0;34m'0.npy'\u001b[0m\u001b[0;34m)\u001b[0m\u001b[0;34m\u001b[0m\u001b[0;34m\u001b[0m\u001b[0m\n\u001b[0;32m----> 3\u001b[0;31m \u001b[0mstruct\u001b[0m \u001b[0;34m=\u001b[0m \u001b[0mnib\u001b[0m\u001b[0;34m.\u001b[0m\u001b[0mload\u001b[0m\u001b[0;34m(\u001b[0m\u001b[0mexample_filename\u001b[0m\u001b[0;34m)\u001b[0m\u001b[0;34m\u001b[0m\u001b[0;34m\u001b[0m\u001b[0m\n\u001b[0m",
      "\u001b[0;32m~/anaconda3/envs/env1/lib/python3.7/site-packages/nibabel/loadsave.py\u001b[0m in \u001b[0;36mload\u001b[0;34m(filename, **kwargs)\u001b[0m\n\u001b[1;32m     54\u001b[0m \u001b[0;34m\u001b[0m\u001b[0m\n\u001b[1;32m     55\u001b[0m     raise ImageFileError('Cannot work out file type of \"%s\"' %\n\u001b[0;32m---> 56\u001b[0;31m                          filename)\n\u001b[0m\u001b[1;32m     57\u001b[0m \u001b[0;34m\u001b[0m\u001b[0m\n\u001b[1;32m     58\u001b[0m \u001b[0;34m\u001b[0m\u001b[0m\n",
      "\u001b[0;31mImageFileError\u001b[0m: Cannot work out file type of \"/media/pravda/New Volume1/LiTS/ct_lits/results/output_vol/0.npy\""
     ]
    }
   ],
   "source": [
    "data_path = '/media/pravda/New Volume1/LiTS/ct_lits/results/output_vol/'\n",
    "example_filename = os.path.join(data_path, '0.npy')\n",
    "struct = nib.load(example_filename)"
   ]
  },
  {
   "cell_type": "code",
   "execution_count": null,
   "metadata": {},
   "outputs": [],
   "source": [
    "import SimpleITK as sitk\n",
    "\n",
    "filtered_image = sitk.GetImageFromArray(my_numpy_array)"
   ]
  }
 ],
 "metadata": {
  "kernelspec": {
   "display_name": "Python 3",
   "language": "python",
   "name": "python3"
  },
  "language_info": {
   "codemirror_mode": {
    "name": "ipython",
    "version": 3
   },
   "file_extension": ".py",
   "mimetype": "text/x-python",
   "name": "python",
   "nbconvert_exporter": "python",
   "pygments_lexer": "ipython3",
   "version": "3.7.6"
  }
 },
 "nbformat": 4,
 "nbformat_minor": 2
}
